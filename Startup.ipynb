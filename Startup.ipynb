{
 "cells": [
  {
   "cell_type": "markdown",
   "metadata": {},
   "source": [
    "# Dependencies and Setup"
   ]
  },
  {
   "cell_type": "code",
   "execution_count": 1,
   "metadata": {
    "ExecuteTime": {
     "end_time": "2020-04-25T18:36:30.935714Z",
     "start_time": "2020-04-25T18:36:30.931717Z"
    }
   },
   "outputs": [],
   "source": [
    "#!pip install sodapy"
   ]
  },
  {
   "cell_type": "code",
   "execution_count": 2,
   "metadata": {
    "ExecuteTime": {
     "end_time": "2020-04-25T18:36:31.924167Z",
     "start_time": "2020-04-25T18:36:30.937713Z"
    },
    "scrolled": false
   },
   "outputs": [],
   "source": [
    "# make sure to install these packages before running:\n",
    "import os\n",
    "import matplotlib.pyplot as plt\n",
    "import pandas as pd\n",
    "import numpy as np\n",
    "import json\n",
    "import datetime   # handle date times\n",
    "import re         # regular expression package\n",
    "from sqlalchemy import create_engine\n",
    "import requests\n",
    "from sodapy import Socrata"
   ]
  },
  {
   "cell_type": "code",
   "execution_count": 3,
   "metadata": {
    "ExecuteTime": {
     "end_time": "2020-04-25T18:36:31.930149Z",
     "start_time": "2020-04-25T18:36:31.926151Z"
    }
   },
   "outputs": [],
   "source": [
    "# Austin Metro Accident Data"
   ]
  },
  {
   "cell_type": "markdown",
   "metadata": {},
   "source": [
    "Select only the columns we are intersted in and select only accidents that happend in the Austin Metro Area, betweeen 2016 and 2019\n",
    "\n",
    "* ID\n",
    "* Severity\n",
    "* Start_Time\n",
    "* End_Time\n",
    "* Start_Lat\n",
    "* Start_Lng\n",
    "* City\n",
    "* County\n",
    "* State\n",
    "* Zipcode\n",
    "* Country\n",
    "* Visibility(mi) \n",
    "* Weather_Condition\n",
    "* Precipitation(in)\n",
    "* Sunrise_Sunset\n",
    "* Civil_Twilight\n",
    "\n",
    "\n",
    "\n"
   ]
  },
  {
   "cell_type": "code",
   "execution_count": 4,
   "metadata": {
    "ExecuteTime": {
     "end_time": "2020-04-25T18:36:32.060121Z",
     "start_time": "2020-04-25T18:36:31.932148Z"
    }
   },
   "outputs": [],
   "source": [
    "# Check if data has been pickled and if so load pickle\n",
    "if os.path.exists('data/tx_metro_cities.pkl') :\n",
    "    tx_metro_cities_df = pd.read_pickle('data/tx_metro_cities.pkl',compression='gzip')    \n",
    "else:\n",
    "# pickle only the attributes we are interested in, and compress\n",
    "# pickle is much faster/smaller than csv\n",
    "    df = pd.read_csv('data/US_Accidents_Dec19.csv',encoding='utf-8')\n",
    "    columns_of_interest=[ 'ID','Severity','Start_Time','End_Time','Start_Lat', 'Start_Lng', 'City', \n",
    "        'County', 'State','Zipcode', 'Country','Visibility(mi)', \n",
    "        'Weather_Condition','Precipitation(in)','Sunrise_Sunset','Civil_Twilight'\n",
    "    ]\n",
    "    condition=df['State'] =='TX'\n",
    "    txDF=df[condition][columns_of_interest]\n",
    "    #create df for selected cities \n",
    "    tx_metro_cities =  ['Austin', 'Round Rock', 'Cedar Park',\n",
    "                 'San Marcos', 'Georgetown', 'Pflugerville',\n",
    "                 'Hutto', 'Leander'  ]\n",
    "    condition = txDF['City'].isin(tx_metro_cities)\n",
    "    tx_metro_cities_df = txDF[condition]    \n",
    "    tx_metro_cities_df.to_pickle(\"data/tx_metro_cities.pkl\",compression='gzip')\n",
    "    \n",
    "\n"
   ]
  },
  {
   "cell_type": "code",
   "execution_count": 5,
   "metadata": {
    "ExecuteTime": {
     "end_time": "2020-04-25T18:36:32.164590Z",
     "start_time": "2020-04-25T18:36:32.062077Z"
    }
   },
   "outputs": [],
   "source": [
    "# add_datepart from fastai\n",
    "# Date Feature Engineering\n",
    "# will split data colum in to corresponding 'Year', 'Month', 'Week', 'Day', 'Dayofweek', 'Dayofyear'\n",
    "# 'Hour', 'Minute'\n",
    "def add_datepart(df, fldname, drop=True,time=False):\n",
    "    fld = df[fldname]\n",
    "    attributes = ['Year', 'Month', 'Week', 'Day', 'Dayofweek', 'Dayofyear']\n",
    "    if time: attributes = attributes + ['Hour', 'Minute']\n",
    "    #, 'Is_month_end', 'Is_month_start', 'Is_quarter_end', 'Is_quarter_start', 'Is_year_end', 'Is_year_start']\n",
    "    if not np.issubdtype(fld.dtype, np.datetime64):\n",
    "        df[fldname] = fld = pd.to_datetime(fld, infer_datetime_format=True)\n",
    "    targ_pre = re.sub('[Dd]ate$', '', fldname)\n",
    "    for n in attributes:\n",
    "        df[targ_pre+n] = getattr(fld.dt,n.lower())\n",
    "    df[targ_pre+'Elapsed'] = fld.astype(np.int64) // 10**9\n",
    "    if drop: df.drop(fldname, axis=1, inplace=True)\n",
    "        \n",
    "add_datepart(tx_metro_cities_df,'Start_Time',False,True )        "
   ]
  },
  {
   "cell_type": "code",
   "execution_count": 6,
   "metadata": {
    "ExecuteTime": {
     "end_time": "2020-04-25T18:36:32.191576Z",
     "start_time": "2020-04-25T18:36:32.166588Z"
    }
   },
   "outputs": [],
   "source": [
    "# use name for DOW\n",
    "def dow(df):\n",
    "    days=[\"Monday\",\"Tuesday\",\"Wednesday\",\"Thursday\",\"Friday\",\"Saturday\",\"Sunday\"]\n",
    "    return days[df]\n",
    "\n",
    "tx_metro_cities_df['Start_TimeDayofweek'] =tx_metro_cities_df['Start_TimeDayofweek'].apply(dow)\n",
    "\n"
   ]
  },
  {
   "cell_type": "code",
   "execution_count": 7,
   "metadata": {
    "ExecuteTime": {
     "end_time": "2020-04-25T18:36:32.231551Z",
     "start_time": "2020-04-25T18:36:32.193573Z"
    }
   },
   "outputs": [],
   "source": [
    "condition = tx_metro_cities_df['Start_TimeYear'].isin([2017,2018])\n",
    "tx_metro_cities_df = tx_metro_cities_df[condition]  "
   ]
  },
  {
   "cell_type": "code",
   "execution_count": 8,
   "metadata": {
    "ExecuteTime": {
     "end_time": "2020-04-25T18:36:32.273526Z",
     "start_time": "2020-04-25T18:36:32.233549Z"
    }
   },
   "outputs": [
    {
     "name": "stdout",
     "output_type": "stream",
     "text": [
      "Number of Columns : 25\n",
      "Number of Rows : 33445\n",
      "Index(['ID', 'Severity', 'Start_Time', 'End_Time', 'Start_Lat', 'Start_Lng',\n",
      "       'City', 'County', 'State', 'Zipcode', 'Country', 'Visibility(mi)',\n",
      "       'Weather_Condition', 'Precipitation(in)', 'Sunrise_Sunset',\n",
      "       'Civil_Twilight', 'Start_TimeYear', 'Start_TimeMonth', 'Start_TimeWeek',\n",
      "       'Start_TimeDay', 'Start_TimeDayofweek', 'Start_TimeDayofyear',\n",
      "       'Start_TimeHour', 'Start_TimeMinute', 'Start_TimeElapsed'],\n",
      "      dtype='object')\n"
     ]
    },
    {
     "data": {
      "text/html": [
       "<div>\n",
       "<style scoped>\n",
       "    .dataframe tbody tr th:only-of-type {\n",
       "        vertical-align: middle;\n",
       "    }\n",
       "\n",
       "    .dataframe tbody tr th {\n",
       "        vertical-align: top;\n",
       "    }\n",
       "\n",
       "    .dataframe thead th {\n",
       "        text-align: right;\n",
       "    }\n",
       "</style>\n",
       "<table border=\"1\" class=\"dataframe\">\n",
       "  <thead>\n",
       "    <tr style=\"text-align: right;\">\n",
       "      <th></th>\n",
       "      <th>ID</th>\n",
       "      <th>Severity</th>\n",
       "      <th>Start_Time</th>\n",
       "      <th>End_Time</th>\n",
       "      <th>Start_Lat</th>\n",
       "      <th>Start_Lng</th>\n",
       "      <th>City</th>\n",
       "      <th>County</th>\n",
       "      <th>State</th>\n",
       "      <th>Zipcode</th>\n",
       "      <th>...</th>\n",
       "      <th>Civil_Twilight</th>\n",
       "      <th>Start_TimeYear</th>\n",
       "      <th>Start_TimeMonth</th>\n",
       "      <th>Start_TimeWeek</th>\n",
       "      <th>Start_TimeDay</th>\n",
       "      <th>Start_TimeDayofweek</th>\n",
       "      <th>Start_TimeDayofyear</th>\n",
       "      <th>Start_TimeHour</th>\n",
       "      <th>Start_TimeMinute</th>\n",
       "      <th>Start_TimeElapsed</th>\n",
       "    </tr>\n",
       "  </thead>\n",
       "  <tbody>\n",
       "    <tr>\n",
       "      <th>267710</th>\n",
       "      <td>A-267712</td>\n",
       "      <td>2</td>\n",
       "      <td>2017-01-02 14:40:12</td>\n",
       "      <td>2017-01-02 15:39:53</td>\n",
       "      <td>30.393579</td>\n",
       "      <td>-97.745979</td>\n",
       "      <td>Austin</td>\n",
       "      <td>Travis</td>\n",
       "      <td>TX</td>\n",
       "      <td>78759-5803</td>\n",
       "      <td>...</td>\n",
       "      <td>Day</td>\n",
       "      <td>2017</td>\n",
       "      <td>1</td>\n",
       "      <td>1</td>\n",
       "      <td>2</td>\n",
       "      <td>Monday</td>\n",
       "      <td>2</td>\n",
       "      <td>14</td>\n",
       "      <td>40</td>\n",
       "      <td>1483368012</td>\n",
       "    </tr>\n",
       "    <tr>\n",
       "      <th>267711</th>\n",
       "      <td>A-267713</td>\n",
       "      <td>2</td>\n",
       "      <td>2017-01-02 14:28:48</td>\n",
       "      <td>2017-01-02 15:28:36</td>\n",
       "      <td>30.256216</td>\n",
       "      <td>-97.722038</td>\n",
       "      <td>Austin</td>\n",
       "      <td>Travis</td>\n",
       "      <td>TX</td>\n",
       "      <td>78702-4564</td>\n",
       "      <td>...</td>\n",
       "      <td>Day</td>\n",
       "      <td>2017</td>\n",
       "      <td>1</td>\n",
       "      <td>1</td>\n",
       "      <td>2</td>\n",
       "      <td>Monday</td>\n",
       "      <td>2</td>\n",
       "      <td>14</td>\n",
       "      <td>28</td>\n",
       "      <td>1483367328</td>\n",
       "    </tr>\n",
       "    <tr>\n",
       "      <th>267712</th>\n",
       "      <td>A-267714</td>\n",
       "      <td>2</td>\n",
       "      <td>2017-01-02 14:04:17</td>\n",
       "      <td>2017-01-02 15:05:00</td>\n",
       "      <td>30.418287</td>\n",
       "      <td>-97.700874</td>\n",
       "      <td>Austin</td>\n",
       "      <td>Travis</td>\n",
       "      <td>TX</td>\n",
       "      <td>78758-2412</td>\n",
       "      <td>...</td>\n",
       "      <td>Day</td>\n",
       "      <td>2017</td>\n",
       "      <td>1</td>\n",
       "      <td>1</td>\n",
       "      <td>2</td>\n",
       "      <td>Monday</td>\n",
       "      <td>2</td>\n",
       "      <td>14</td>\n",
       "      <td>4</td>\n",
       "      <td>1483365857</td>\n",
       "    </tr>\n",
       "    <tr>\n",
       "      <th>267713</th>\n",
       "      <td>A-267715</td>\n",
       "      <td>2</td>\n",
       "      <td>2017-01-02 14:29:13</td>\n",
       "      <td>2017-01-02 15:35:00</td>\n",
       "      <td>30.237938</td>\n",
       "      <td>-97.696167</td>\n",
       "      <td>Austin</td>\n",
       "      <td>Travis</td>\n",
       "      <td>TX</td>\n",
       "      <td>78741</td>\n",
       "      <td>...</td>\n",
       "      <td>Day</td>\n",
       "      <td>2017</td>\n",
       "      <td>1</td>\n",
       "      <td>1</td>\n",
       "      <td>2</td>\n",
       "      <td>Monday</td>\n",
       "      <td>2</td>\n",
       "      <td>14</td>\n",
       "      <td>29</td>\n",
       "      <td>1483367353</td>\n",
       "    </tr>\n",
       "    <tr>\n",
       "      <th>267714</th>\n",
       "      <td>A-267716</td>\n",
       "      <td>2</td>\n",
       "      <td>2017-01-02 14:40:51</td>\n",
       "      <td>2017-01-02 15:40:23</td>\n",
       "      <td>30.364882</td>\n",
       "      <td>-97.695992</td>\n",
       "      <td>Austin</td>\n",
       "      <td>Travis</td>\n",
       "      <td>TX</td>\n",
       "      <td>78753-4107</td>\n",
       "      <td>...</td>\n",
       "      <td>Day</td>\n",
       "      <td>2017</td>\n",
       "      <td>1</td>\n",
       "      <td>1</td>\n",
       "      <td>2</td>\n",
       "      <td>Monday</td>\n",
       "      <td>2</td>\n",
       "      <td>14</td>\n",
       "      <td>40</td>\n",
       "      <td>1483368051</td>\n",
       "    </tr>\n",
       "  </tbody>\n",
       "</table>\n",
       "<p>5 rows × 25 columns</p>\n",
       "</div>"
      ],
      "text/plain": [
       "              ID  Severity          Start_Time             End_Time  \\\n",
       "267710  A-267712         2 2017-01-02 14:40:12  2017-01-02 15:39:53   \n",
       "267711  A-267713         2 2017-01-02 14:28:48  2017-01-02 15:28:36   \n",
       "267712  A-267714         2 2017-01-02 14:04:17  2017-01-02 15:05:00   \n",
       "267713  A-267715         2 2017-01-02 14:29:13  2017-01-02 15:35:00   \n",
       "267714  A-267716         2 2017-01-02 14:40:51  2017-01-02 15:40:23   \n",
       "\n",
       "        Start_Lat  Start_Lng    City  County State     Zipcode  ...  \\\n",
       "267710  30.393579 -97.745979  Austin  Travis    TX  78759-5803  ...   \n",
       "267711  30.256216 -97.722038  Austin  Travis    TX  78702-4564  ...   \n",
       "267712  30.418287 -97.700874  Austin  Travis    TX  78758-2412  ...   \n",
       "267713  30.237938 -97.696167  Austin  Travis    TX       78741  ...   \n",
       "267714  30.364882 -97.695992  Austin  Travis    TX  78753-4107  ...   \n",
       "\n",
       "       Civil_Twilight  Start_TimeYear Start_TimeMonth  Start_TimeWeek  \\\n",
       "267710            Day            2017               1               1   \n",
       "267711            Day            2017               1               1   \n",
       "267712            Day            2017               1               1   \n",
       "267713            Day            2017               1               1   \n",
       "267714            Day            2017               1               1   \n",
       "\n",
       "       Start_TimeDay Start_TimeDayofweek  Start_TimeDayofyear  Start_TimeHour  \\\n",
       "267710             2              Monday                    2              14   \n",
       "267711             2              Monday                    2              14   \n",
       "267712             2              Monday                    2              14   \n",
       "267713             2              Monday                    2              14   \n",
       "267714             2              Monday                    2              14   \n",
       "\n",
       "        Start_TimeMinute  Start_TimeElapsed  \n",
       "267710                40         1483368012  \n",
       "267711                28         1483367328  \n",
       "267712                 4         1483365857  \n",
       "267713                29         1483367353  \n",
       "267714                40         1483368051  \n",
       "\n",
       "[5 rows x 25 columns]"
      ]
     },
     "execution_count": 8,
     "metadata": {},
     "output_type": "execute_result"
    }
   ],
   "source": [
    "print(f\"Number of Columns : {len(tx_metro_cities_df.columns)}\")\n",
    "print(f\"Number of Rows : {len(tx_metro_cities_df)}\")\n",
    "print(tx_metro_cities_df.columns)\n",
    "\n",
    "tx_metro_cities_df.head()\n"
   ]
  },
  {
   "cell_type": "code",
   "execution_count": null,
   "metadata": {},
   "outputs": [],
   "source": []
  },
  {
   "cell_type": "markdown",
   "metadata": {},
   "source": [
    "# Austin Fatality Data"
   ]
  },
  {
   "cell_type": "code",
   "execution_count": 9,
   "metadata": {
    "ExecuteTime": {
     "end_time": "2020-04-25T18:36:33.737346Z",
     "start_time": "2020-04-25T18:36:32.275526Z"
    }
   },
   "outputs": [
    {
     "name": "stderr",
     "output_type": "stream",
     "text": [
      "WARNING:root:Requests made without an app_token will be subject to strict throttling limits.\n"
     ]
    }
   ],
   "source": [
    "# Unauthenticated client only works with public data sets. Note 'None'\n",
    "# in place of application token, and no username or password:\n",
    "client = Socrata(\"data.austintexas.gov\", None)\n",
    "\n",
    "\n",
    "# First 2000 results, returned as JSON from API / converted to Python list of\n",
    "# dictionaries by sodapy.\n",
    "\n",
    "results = client.get(\"ergh-7g8p\", limit=2000)\n",
    "results_df_2012 =pd.DataFrame.from_records(results)\n",
    "\n",
    "results = client.get(\"vggi-9ddh\", limit=2000)\n",
    "results_df_2013 =pd.DataFrame.from_records(results)\n",
    "\n",
    "results = client.get(\"gm9p-snyb\", limit=2000)\n",
    "results_df_2014=pd.DataFrame.from_records(results)\n",
    "\n",
    "results = client.get(\"p658-umsa\", limit=2000)\n",
    "results_df_2015=pd.DataFrame.from_records(results)\n",
    "\n",
    "results = client.get(\"tiqb-wv3c\", limit=2000)\n",
    "results_df_2016=pd.DataFrame.from_records(results)\n",
    "\n",
    "results = client.get(\"ijds-pcyq\", limit=2000)\n",
    "results_df_2017=pd.DataFrame.from_records(results)\n",
    "\n",
    "results = client.get(\"9jd4-zjmx\", limit=2000)\n",
    "results_df_2018 = pd.DataFrame.from_records(results)\n",
    "\n"
   ]
  },
  {
   "cell_type": "markdown",
   "metadata": {
    "ExecuteTime": {
     "end_time": "2020-04-25T17:10:28.288338Z",
     "start_time": "2020-04-25T17:10:28.285339Z"
    }
   },
   "source": [
    "# Rename columns to consistent name between different years"
   ]
  },
  {
   "cell_type": "code",
   "execution_count": 10,
   "metadata": {
    "ExecuteTime": {
     "end_time": "2020-04-25T18:36:33.746324Z",
     "start_time": "2020-04-25T18:36:33.738329Z"
    }
   },
   "outputs": [],
   "source": [
    "# #x_coord\n",
    "# results_df_2016.rename(columns = {'coord_x':'x_coord'}, inplace = True)\n",
    "\n",
    "# #dl_status_incident\n",
    "# results_df_2016.rename(columns = {'dl_status':'dl_status_incident'}, inplace = True)\n",
    "\n",
    "# #killed_driver_pass\n",
    "# results_df_2016.rename(columns = {'victim':'killed_driver_pass'}, inplace = True)\n",
    "\n",
    "# #restraint_type\n",
    "# results_df_2016.rename(columns = {'restraint_or_helmet':'restraint_type'}, inplace = True)\n",
    "results_df_2017.rename(columns = {'restraint_helmet':'restraint_type'}, inplace = True)\n",
    "\n",
    "\n",
    "#ftsra\n",
    "results_df_2017.rename(columns = {'failure_to_stop_and_render_aid':'ftsra'}, inplace = True)\n",
    "results_df_2018.rename(columns = {'failure_to_stop_and_render_aid':'ftsra'}, inplace = True)"
   ]
  },
  {
   "cell_type": "code",
   "execution_count": 11,
   "metadata": {
    "ExecuteTime": {
     "end_time": "2020-04-25T18:36:33.761317Z",
     "start_time": "2020-04-25T18:36:33.748324Z"
    }
   },
   "outputs": [],
   "source": [
    "#concatenate 2016-2018 fatality data\n",
    "results_project= pd.concat([ results_df_2017, results_df_2018])\n",
    "\n"
   ]
  },
  {
   "cell_type": "markdown",
   "metadata": {
    "ExecuteTime": {
     "end_time": "2020-04-25T17:27:31.635549Z",
     "start_time": "2020-04-25T17:27:31.632551Z"
    }
   },
   "source": [
    "# Data type changes"
   ]
  },
  {
   "cell_type": "code",
   "execution_count": 12,
   "metadata": {
    "ExecuteTime": {
     "end_time": "2020-04-25T18:36:33.803292Z",
     "start_time": "2020-04-25T18:36:33.766313Z"
    }
   },
   "outputs": [],
   "source": [
    "results_project = results_project.astype({ \"x_coord\":float, \"y_coord\": float})\n",
    "results_project['date'] =  pd.to_datetime(results_project['date'], infer_datetime_format=True)\n",
    "results_project['year'] =  results_project['date'].dt.year\n"
   ]
  },
  {
   "cell_type": "code",
   "execution_count": 13,
   "metadata": {
    "ExecuteTime": {
     "end_time": "2020-04-25T18:36:33.838272Z",
     "start_time": "2020-04-25T18:36:33.805291Z"
    }
   },
   "outputs": [
    {
     "name": "stdout",
     "output_type": "stream",
     "text": [
      "Number of Columns : 25\n",
      "Number of Rows : 144\n",
      "Index(['type', 'fatal_crash_number', 'number_of_fatalities', 'case_number',\n",
      "       'location', 'area', 'date', 'month', 'day', 'hour', 'time', 'related',\n",
      "       'charge', 'killed_driver_pass', 'speeding',\n",
      "       'ran_red_light_or_stop_sign', 'dl_status_incident',\n",
      "       'suspected_impairment', 'restraint_type', 'type_of_road', 'ftsra',\n",
      "       'x_coord', 'y_coord', 'case_status', 'year'],\n",
      "      dtype='object')\n"
     ]
    },
    {
     "data": {
      "text/html": [
       "<div>\n",
       "<style scoped>\n",
       "    .dataframe tbody tr th:only-of-type {\n",
       "        vertical-align: middle;\n",
       "    }\n",
       "\n",
       "    .dataframe tbody tr th {\n",
       "        vertical-align: top;\n",
       "    }\n",
       "\n",
       "    .dataframe thead th {\n",
       "        text-align: right;\n",
       "    }\n",
       "</style>\n",
       "<table border=\"1\" class=\"dataframe\">\n",
       "  <thead>\n",
       "    <tr style=\"text-align: right;\">\n",
       "      <th></th>\n",
       "      <th>type</th>\n",
       "      <th>fatal_crash_number</th>\n",
       "      <th>number_of_fatalities</th>\n",
       "      <th>case_number</th>\n",
       "      <th>location</th>\n",
       "      <th>area</th>\n",
       "      <th>date</th>\n",
       "      <th>month</th>\n",
       "      <th>day</th>\n",
       "      <th>hour</th>\n",
       "      <th>...</th>\n",
       "      <th>ran_red_light_or_stop_sign</th>\n",
       "      <th>dl_status_incident</th>\n",
       "      <th>suspected_impairment</th>\n",
       "      <th>restraint_type</th>\n",
       "      <th>type_of_road</th>\n",
       "      <th>ftsra</th>\n",
       "      <th>x_coord</th>\n",
       "      <th>y_coord</th>\n",
       "      <th>case_status</th>\n",
       "      <th>year</th>\n",
       "    </tr>\n",
       "  </thead>\n",
       "  <tbody>\n",
       "    <tr>\n",
       "      <th>0</th>\n",
       "      <td>Motor Vehicle</td>\n",
       "      <td>1</td>\n",
       "      <td>1</td>\n",
       "      <td>17-0030106</td>\n",
       "      <td>8200 blk N. Lamar Blvd</td>\n",
       "      <td>ED</td>\n",
       "      <td>2017-01-03</td>\n",
       "      <td>Jan</td>\n",
       "      <td>Tue</td>\n",
       "      <td>1</td>\n",
       "      <td>...</td>\n",
       "      <td>N</td>\n",
       "      <td>okay</td>\n",
       "      <td>DRIVER</td>\n",
       "      <td>seatbelt worn</td>\n",
       "      <td>high use roadway</td>\n",
       "      <td>N</td>\n",
       "      <td>-97.709153</td>\n",
       "      <td>30.350809</td>\n",
       "      <td>NaN</td>\n",
       "      <td>2017</td>\n",
       "    </tr>\n",
       "    <tr>\n",
       "      <th>1</th>\n",
       "      <td>Bicycle</td>\n",
       "      <td>2</td>\n",
       "      <td>1</td>\n",
       "      <td>17-0080877</td>\n",
       "      <td>Research Blvd SVRD NB/Riata Trace Pkwy</td>\n",
       "      <td>AD</td>\n",
       "      <td>2017-01-08</td>\n",
       "      <td>Jan</td>\n",
       "      <td>Sun</td>\n",
       "      <td>15</td>\n",
       "      <td>...</td>\n",
       "      <td>Y</td>\n",
       "      <td>suspended</td>\n",
       "      <td>NONE</td>\n",
       "      <td>helmet worn</td>\n",
       "      <td>other highway</td>\n",
       "      <td>N</td>\n",
       "      <td>-97.753497</td>\n",
       "      <td>30.426752</td>\n",
       "      <td>NaN</td>\n",
       "      <td>2017</td>\n",
       "    </tr>\n",
       "    <tr>\n",
       "      <th>2</th>\n",
       "      <td>Motor Vehicle</td>\n",
       "      <td>3</td>\n",
       "      <td>1</td>\n",
       "      <td>17-0071308</td>\n",
       "      <td>E US Hwy 290 WB Svrd/Johnny Morris</td>\n",
       "      <td>CH</td>\n",
       "      <td>2017-01-07</td>\n",
       "      <td>Jan</td>\n",
       "      <td>Sat</td>\n",
       "      <td>21</td>\n",
       "      <td>...</td>\n",
       "      <td>N</td>\n",
       "      <td>no DL</td>\n",
       "      <td>DRIVER</td>\n",
       "      <td>unknown</td>\n",
       "      <td>other highway</td>\n",
       "      <td>Y</td>\n",
       "      <td>-97.623275</td>\n",
       "      <td>30.331230</td>\n",
       "      <td>NaN</td>\n",
       "      <td>2017</td>\n",
       "    </tr>\n",
       "    <tr>\n",
       "      <th>3</th>\n",
       "      <td>Motor Vehicle</td>\n",
       "      <td>4</td>\n",
       "      <td>1</td>\n",
       "      <td>17-0150225</td>\n",
       "      <td>13500 N US 183 NB</td>\n",
       "      <td>AD</td>\n",
       "      <td>2017-01-15</td>\n",
       "      <td>Jan</td>\n",
       "      <td>Sun</td>\n",
       "      <td>2</td>\n",
       "      <td>...</td>\n",
       "      <td>N</td>\n",
       "      <td>no DL</td>\n",
       "      <td>BOTH Drivers</td>\n",
       "      <td>no seatbelt</td>\n",
       "      <td>other highway</td>\n",
       "      <td>N</td>\n",
       "      <td>-97.790548</td>\n",
       "      <td>30.449598</td>\n",
       "      <td>NaN</td>\n",
       "      <td>2017</td>\n",
       "    </tr>\n",
       "    <tr>\n",
       "      <th>4</th>\n",
       "      <td>Pedestrian</td>\n",
       "      <td>5</td>\n",
       "      <td>1</td>\n",
       "      <td>17-0110340</td>\n",
       "      <td>5900 blk N IH35</td>\n",
       "      <td>ID</td>\n",
       "      <td>2017-01-11</td>\n",
       "      <td>Jan</td>\n",
       "      <td>Wed</td>\n",
       "      <td>6</td>\n",
       "      <td>...</td>\n",
       "      <td>N</td>\n",
       "      <td>okay</td>\n",
       "      <td>PED</td>\n",
       "      <td>n/a</td>\n",
       "      <td>IH35</td>\n",
       "      <td>N</td>\n",
       "      <td>-97.706646</td>\n",
       "      <td>30.320762</td>\n",
       "      <td>NaN</td>\n",
       "      <td>2017</td>\n",
       "    </tr>\n",
       "  </tbody>\n",
       "</table>\n",
       "<p>5 rows × 25 columns</p>\n",
       "</div>"
      ],
      "text/plain": [
       "            type fatal_crash_number number_of_fatalities case_number  \\\n",
       "0  Motor Vehicle                  1                    1  17-0030106   \n",
       "1        Bicycle                  2                    1  17-0080877   \n",
       "2  Motor Vehicle                  3                    1  17-0071308   \n",
       "3  Motor Vehicle                  4                    1  17-0150225   \n",
       "4     Pedestrian                  5                    1  17-0110340   \n",
       "\n",
       "                                 location area       date month  day hour  \\\n",
       "0                  8200 blk N. Lamar Blvd   ED 2017-01-03   Jan  Tue    1   \n",
       "1  Research Blvd SVRD NB/Riata Trace Pkwy   AD 2017-01-08   Jan  Sun   15   \n",
       "2      E US Hwy 290 WB Svrd/Johnny Morris   CH 2017-01-07   Jan  Sat   21   \n",
       "3                       13500 N US 183 NB   AD 2017-01-15   Jan  Sun    2   \n",
       "4                         5900 blk N IH35   ID 2017-01-11   Jan  Wed    6   \n",
       "\n",
       "   ... ran_red_light_or_stop_sign dl_status_incident suspected_impairment  \\\n",
       "0  ...                          N               okay               DRIVER   \n",
       "1  ...                          Y          suspended                NONE    \n",
       "2  ...                          N              no DL              DRIVER    \n",
       "3  ...                          N              no DL         BOTH Drivers   \n",
       "4  ...                          N               okay                  PED   \n",
       "\n",
       "  restraint_type      type_of_road ftsra    x_coord    y_coord case_status  \\\n",
       "0  seatbelt worn  high use roadway     N -97.709153  30.350809         NaN   \n",
       "1    helmet worn     other highway     N -97.753497  30.426752         NaN   \n",
       "2        unknown     other highway     Y -97.623275  30.331230         NaN   \n",
       "3    no seatbelt     other highway     N -97.790548  30.449598         NaN   \n",
       "4            n/a              IH35     N -97.706646  30.320762         NaN   \n",
       "\n",
       "   year  \n",
       "0  2017  \n",
       "1  2017  \n",
       "2  2017  \n",
       "3  2017  \n",
       "4  2017  \n",
       "\n",
       "[5 rows x 25 columns]"
      ]
     },
     "execution_count": 13,
     "metadata": {},
     "output_type": "execute_result"
    }
   ],
   "source": [
    "print(f\"Number of Columns : {len(results_project.columns)}\")\n",
    "print(f\"Number of Rows : {len(results_project)}\")\n",
    "print(results_project.columns)\n",
    "\n",
    "results_project.head()\n"
   ]
  },
  {
   "cell_type": "markdown",
   "metadata": {},
   "source": [
    "# Save to SQLlite\n"
   ]
  },
  {
   "cell_type": "code",
   "execution_count": 14,
   "metadata": {
    "ExecuteTime": {
     "end_time": "2020-04-25T18:36:35.590396Z",
     "start_time": "2020-04-25T18:36:33.840270Z"
    }
   },
   "outputs": [],
   "source": [
    "engine = create_engine('sqlite:///data/AUSaccidents.db', echo=False)\n",
    "tx_metro_cities_df.to_sql('austinAccidents',con=engine,if_exists='replace')\n"
   ]
  },
  {
   "cell_type": "code",
   "execution_count": 15,
   "metadata": {
    "ExecuteTime": {
     "end_time": "2020-04-25T18:36:35.723307Z",
     "start_time": "2020-04-25T18:36:35.592380Z"
    }
   },
   "outputs": [],
   "source": [
    "results_project.to_sql('austinFatalities',con=engine,if_exists='replace')\n"
   ]
  },
  {
   "cell_type": "code",
   "execution_count": null,
   "metadata": {},
   "outputs": [],
   "source": []
  },
  {
   "cell_type": "code",
   "execution_count": null,
   "metadata": {},
   "outputs": [],
   "source": []
  }
 ],
 "metadata": {
  "kernelspec": {
   "display_name": "Python 3",
   "language": "python",
   "name": "python3"
  },
  "language_info": {
   "codemirror_mode": {
    "name": "ipython",
    "version": 3
   },
   "file_extension": ".py",
   "mimetype": "text/x-python",
   "name": "python",
   "nbconvert_exporter": "python",
   "pygments_lexer": "ipython3",
   "version": "3.6.10"
  }
 },
 "nbformat": 4,
 "nbformat_minor": 2
}
