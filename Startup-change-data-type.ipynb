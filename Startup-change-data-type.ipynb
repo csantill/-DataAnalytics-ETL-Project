{
 "cells": [
  {
   "cell_type": "markdown",
   "metadata": {},
   "source": [
    "# Dependencies and Setup"
   ]
  },
  {
   "cell_type": "code",
   "execution_count": 2,
   "metadata": {},
   "outputs": [
    {
     "name": "stdout",
     "output_type": "stream",
     "text": [
      "Collecting sodapy\n",
      "  Downloading https://files.pythonhosted.org/packages/9e/74/95fb7d45bbe7f1de43caac45d7dd4807ef1e15881564a00eef489a3bb5c6/sodapy-2.1.0-py2.py3-none-any.whl\n",
      "Requirement already satisfied: requests>=2.20.0 in /Users/ningningdu/opt/anaconda3/lib/python3.7/site-packages (from sodapy) (2.22.0)\n",
      "Requirement already satisfied: certifi>=2017.4.17 in /Users/ningningdu/opt/anaconda3/lib/python3.7/site-packages (from requests>=2.20.0->sodapy) (2019.9.11)\n",
      "Requirement already satisfied: idna<2.9,>=2.5 in /Users/ningningdu/opt/anaconda3/lib/python3.7/site-packages (from requests>=2.20.0->sodapy) (2.8)\n",
      "Requirement already satisfied: chardet<3.1.0,>=3.0.2 in /Users/ningningdu/opt/anaconda3/lib/python3.7/site-packages (from requests>=2.20.0->sodapy) (3.0.4)\n",
      "Requirement already satisfied: urllib3!=1.25.0,!=1.25.1,<1.26,>=1.21.1 in /Users/ningningdu/opt/anaconda3/lib/python3.7/site-packages (from requests>=2.20.0->sodapy) (1.24.2)\n",
      "Installing collected packages: sodapy\n",
      "Successfully installed sodapy-2.1.0\n"
     ]
    }
   ],
   "source": [
    "#!pip install sodapy"
   ]
  },
  {
   "cell_type": "code",
   "execution_count": 11,
   "metadata": {
    "ExecuteTime": {
     "end_time": "2020-04-25T15:19:00.848597Z",
     "start_time": "2020-04-25T15:18:59.839569Z"
    },
    "scrolled": false
   },
   "outputs": [],
   "source": [
    "# make sure to install these packages before running:\n",
    "import os\n",
    "import matplotlib.pyplot as plt\n",
    "import pandas as pd\n",
    "import numpy as np\n",
    "import json\n",
    "import datetime   # handle date times\n",
    "import re         # regular expression package\n",
    "from sqlalchemy import create_engine\n",
    "import requests\n",
    "from sodapy import Socrata"
   ]
  },
  {
   "cell_type": "markdown",
   "metadata": {},
   "source": [
    "Select only the columns we are intersted in and select only accidents that happend in the Austin Metro Area, betweeen 2016 and 2019\n",
    "\n",
    "* ID\n",
    "* Severity\n",
    "* Start_Time\n",
    "* End_Time\n",
    "* Start_Lat\n",
    "* Start_Lng\n",
    "* City\n",
    "* County\n",
    "* State\n",
    "* Zipcode\n",
    "* Country\n",
    "* Visibility(mi) \n",
    "* Weather_Condition\n",
    "* Precipitation(in)\n",
    "* Sunrise_Sunset\n",
    "* Civil_Twilight\n",
    "\n",
    "\n",
    "Also create data frame for the metro cities in Texas\n",
    "\n"
   ]
  },
  {
   "cell_type": "code",
   "execution_count": 12,
   "metadata": {
    "ExecuteTime": {
     "end_time": "2020-04-25T15:19:00.951497Z",
     "start_time": "2020-04-25T15:19:00.850555Z"
    }
   },
   "outputs": [],
   "source": [
    "# Check if data has been pickled and if so load pickle\n",
    "if os.path.exists('data/tx_metro_cities.pkl') :\n",
    "    tx_metro_cities_df = pd.read_pickle('data/tx_metro_cities.pkl',compression='gzip')    \n",
    "else:\n",
    "# pickle only the attributes we are interested in, and compress\n",
    "# pickle is much faster/smaller than csv\n",
    "    df = pd.read_csv('data/US_Accidents_Dec19.csv',encoding='utf-8')\n",
    "    columns_of_interest=[ 'ID','Severity','Start_Time','End_Time','Start_Lat', 'Start_Lng', 'City', \n",
    "        'County', 'State','Zipcode', 'Country','Visibility(mi)', \n",
    "        'Weather_Condition','Precipitation(in)','Sunrise_Sunset','Civil_Twilight'\n",
    "    ]\n",
    "    condition=df['State'] =='TX'\n",
    "    txDF=df[condition][columns_of_interest]\n",
    "    #create df for selected cities \n",
    "    tx_metro_cities =  ['Austin', 'Round Rock', 'Cedar Park',\n",
    "                 'San Marcos', 'Georgetown', 'Pflugerville',\n",
    "                 'Hutto', 'Leander'  ]\n",
    "    condition = txDF['City'].isin(tx_metro_cities)\n",
    "    tx_metro_cities_df = txDF[condition]    \n",
    "    tx_metro_cities_df.to_pickle(\"data/tx_metro_cities.pkl\",compression='gzip')\n",
    "    \n",
    "\n"
   ]
  },
  {
   "cell_type": "code",
   "execution_count": 13,
   "metadata": {
    "ExecuteTime": {
     "end_time": "2020-04-25T15:19:01.050455Z",
     "start_time": "2020-04-25T15:19:00.953494Z"
    }
   },
   "outputs": [],
   "source": [
    "# add_datepart from fastai\n",
    "# Date Feature Engineering\n",
    "# will split data colum in to corresponding 'Year', 'Month', 'Week', 'Day', 'Dayofweek', 'Dayofyear'\n",
    "# 'Hour', 'Minute'\n",
    "def add_datepart(df, fldname, drop=True,time=False):\n",
    "    fld = df[fldname]\n",
    "    attributes = ['Year', 'Month', 'Week', 'Day', 'Dayofweek', 'Dayofyear']\n",
    "    if time: attributes = attributes + ['Hour', 'Minute']\n",
    "    #, 'Is_month_end', 'Is_month_start', 'Is_quarter_end', 'Is_quarter_start', 'Is_year_end', 'Is_year_start']\n",
    "    if not np.issubdtype(fld.dtype, np.datetime64):\n",
    "        df[fldname] = fld = pd.to_datetime(fld, infer_datetime_format=True)\n",
    "    targ_pre = re.sub('[Dd]ate$', '', fldname)\n",
    "    for n in attributes:\n",
    "        df[targ_pre+n] = getattr(fld.dt,n.lower())\n",
    "    df[targ_pre+'Elapsed'] = fld.astype(np.int64) // 10**9\n",
    "    if drop: df.drop(fldname, axis=1, inplace=True)\n",
    "        \n",
    "add_datepart(tx_metro_cities_df,'Start_Time',False,True )        "
   ]
  },
  {
   "cell_type": "code",
   "execution_count": 14,
   "metadata": {
    "ExecuteTime": {
     "end_time": "2020-04-25T15:19:01.073427Z",
     "start_time": "2020-04-25T15:19:01.052440Z"
    }
   },
   "outputs": [],
   "source": [
    "# use name for DOW\n",
    "def dow(df):\n",
    "    days=[\"Monday\",\"Tuesday\",\"Wednesday\",\"Thursday\",\"Friday\",\"Saturday\",\"Sunday\"]\n",
    "    return days[df]\n",
    "\n",
    "tx_metro_cities_df['Start_TimeDayofweek'] =tx_metro_cities_df['Start_TimeDayofweek'].apply(dow)"
   ]
  },
  {
   "cell_type": "code",
   "execution_count": 5,
   "metadata": {
    "ExecuteTime": {
     "end_time": "2020-04-25T15:19:01.117401Z",
     "start_time": "2020-04-25T15:19:01.075424Z"
    }
   },
   "outputs": [
    {
     "name": "stdout",
     "output_type": "stream",
     "text": [
      "Number of Columns : 25\n",
      "Number of Rows : 62609\n",
      "Index(['ID', 'Severity', 'Start_Time', 'End_Time', 'Start_Lat', 'Start_Lng',\n",
      "       'City', 'County', 'State', 'Zipcode', 'Country', 'Visibility(mi)',\n",
      "       'Weather_Condition', 'Precipitation(in)', 'Sunrise_Sunset',\n",
      "       'Civil_Twilight', 'Start_TimeYear', 'Start_TimeMonth', 'Start_TimeWeek',\n",
      "       'Start_TimeDay', 'Start_TimeDayofweek', 'Start_TimeDayofyear',\n",
      "       'Start_TimeHour', 'Start_TimeMinute', 'Start_TimeElapsed'],\n",
      "      dtype='object')\n"
     ]
    },
    {
     "data": {
      "text/html": [
       "<div>\n",
       "<style scoped>\n",
       "    .dataframe tbody tr th:only-of-type {\n",
       "        vertical-align: middle;\n",
       "    }\n",
       "\n",
       "    .dataframe tbody tr th {\n",
       "        vertical-align: top;\n",
       "    }\n",
       "\n",
       "    .dataframe thead th {\n",
       "        text-align: right;\n",
       "    }\n",
       "</style>\n",
       "<table border=\"1\" class=\"dataframe\">\n",
       "  <thead>\n",
       "    <tr style=\"text-align: right;\">\n",
       "      <th></th>\n",
       "      <th>ID</th>\n",
       "      <th>Severity</th>\n",
       "      <th>Start_Time</th>\n",
       "      <th>End_Time</th>\n",
       "      <th>Start_Lat</th>\n",
       "      <th>Start_Lng</th>\n",
       "      <th>City</th>\n",
       "      <th>County</th>\n",
       "      <th>State</th>\n",
       "      <th>Zipcode</th>\n",
       "      <th>...</th>\n",
       "      <th>Civil_Twilight</th>\n",
       "      <th>Start_TimeYear</th>\n",
       "      <th>Start_TimeMonth</th>\n",
       "      <th>Start_TimeWeek</th>\n",
       "      <th>Start_TimeDay</th>\n",
       "      <th>Start_TimeDayofweek</th>\n",
       "      <th>Start_TimeDayofyear</th>\n",
       "      <th>Start_TimeHour</th>\n",
       "      <th>Start_TimeMinute</th>\n",
       "      <th>Start_TimeElapsed</th>\n",
       "    </tr>\n",
       "  </thead>\n",
       "  <tbody>\n",
       "    <tr>\n",
       "      <th>261007</th>\n",
       "      <td>A-261009</td>\n",
       "      <td>2</td>\n",
       "      <td>2016-11-30 16:03:54</td>\n",
       "      <td>2016-11-30 17:20:00</td>\n",
       "      <td>30.336502</td>\n",
       "      <td>-97.755646</td>\n",
       "      <td>Austin</td>\n",
       "      <td>Travis</td>\n",
       "      <td>TX</td>\n",
       "      <td>78731</td>\n",
       "      <td>...</td>\n",
       "      <td>Day</td>\n",
       "      <td>2016</td>\n",
       "      <td>11</td>\n",
       "      <td>48</td>\n",
       "      <td>30</td>\n",
       "      <td>Wednesday</td>\n",
       "      <td>335</td>\n",
       "      <td>16</td>\n",
       "      <td>3</td>\n",
       "      <td>1480521834</td>\n",
       "    </tr>\n",
       "    <tr>\n",
       "      <th>261008</th>\n",
       "      <td>A-261010</td>\n",
       "      <td>2</td>\n",
       "      <td>2016-11-30 16:32:18</td>\n",
       "      <td>2016-11-30 17:47:02</td>\n",
       "      <td>30.328165</td>\n",
       "      <td>-97.694305</td>\n",
       "      <td>Austin</td>\n",
       "      <td>Travis</td>\n",
       "      <td>TX</td>\n",
       "      <td>78752-2826</td>\n",
       "      <td>...</td>\n",
       "      <td>Day</td>\n",
       "      <td>2016</td>\n",
       "      <td>11</td>\n",
       "      <td>48</td>\n",
       "      <td>30</td>\n",
       "      <td>Wednesday</td>\n",
       "      <td>335</td>\n",
       "      <td>16</td>\n",
       "      <td>32</td>\n",
       "      <td>1480523538</td>\n",
       "    </tr>\n",
       "    <tr>\n",
       "      <th>261009</th>\n",
       "      <td>A-261011</td>\n",
       "      <td>2</td>\n",
       "      <td>2016-11-30 16:31:45</td>\n",
       "      <td>2016-11-30 17:46:34</td>\n",
       "      <td>30.326077</td>\n",
       "      <td>-97.692307</td>\n",
       "      <td>Austin</td>\n",
       "      <td>Travis</td>\n",
       "      <td>TX</td>\n",
       "      <td>78752</td>\n",
       "      <td>...</td>\n",
       "      <td>Day</td>\n",
       "      <td>2016</td>\n",
       "      <td>11</td>\n",
       "      <td>48</td>\n",
       "      <td>30</td>\n",
       "      <td>Wednesday</td>\n",
       "      <td>335</td>\n",
       "      <td>16</td>\n",
       "      <td>31</td>\n",
       "      <td>1480523505</td>\n",
       "    </tr>\n",
       "    <tr>\n",
       "      <th>261026</th>\n",
       "      <td>A-261028</td>\n",
       "      <td>2</td>\n",
       "      <td>2016-11-30 17:11:22</td>\n",
       "      <td>2016-11-30 17:41:09</td>\n",
       "      <td>30.332523</td>\n",
       "      <td>-97.686707</td>\n",
       "      <td>Austin</td>\n",
       "      <td>Travis</td>\n",
       "      <td>TX</td>\n",
       "      <td>78752</td>\n",
       "      <td>...</td>\n",
       "      <td>Day</td>\n",
       "      <td>2016</td>\n",
       "      <td>11</td>\n",
       "      <td>48</td>\n",
       "      <td>30</td>\n",
       "      <td>Wednesday</td>\n",
       "      <td>335</td>\n",
       "      <td>17</td>\n",
       "      <td>11</td>\n",
       "      <td>1480525882</td>\n",
       "    </tr>\n",
       "    <tr>\n",
       "      <th>261037</th>\n",
       "      <td>A-261039</td>\n",
       "      <td>2</td>\n",
       "      <td>2016-11-30 17:16:42</td>\n",
       "      <td>2016-11-30 17:46:32</td>\n",
       "      <td>30.292852</td>\n",
       "      <td>-97.747017</td>\n",
       "      <td>Austin</td>\n",
       "      <td>Travis</td>\n",
       "      <td>TX</td>\n",
       "      <td>78705</td>\n",
       "      <td>...</td>\n",
       "      <td>Day</td>\n",
       "      <td>2016</td>\n",
       "      <td>11</td>\n",
       "      <td>48</td>\n",
       "      <td>30</td>\n",
       "      <td>Wednesday</td>\n",
       "      <td>335</td>\n",
       "      <td>17</td>\n",
       "      <td>16</td>\n",
       "      <td>1480526202</td>\n",
       "    </tr>\n",
       "  </tbody>\n",
       "</table>\n",
       "<p>5 rows × 25 columns</p>\n",
       "</div>"
      ],
      "text/plain": [
       "              ID  Severity          Start_Time             End_Time  \\\n",
       "261007  A-261009         2 2016-11-30 16:03:54  2016-11-30 17:20:00   \n",
       "261008  A-261010         2 2016-11-30 16:32:18  2016-11-30 17:47:02   \n",
       "261009  A-261011         2 2016-11-30 16:31:45  2016-11-30 17:46:34   \n",
       "261026  A-261028         2 2016-11-30 17:11:22  2016-11-30 17:41:09   \n",
       "261037  A-261039         2 2016-11-30 17:16:42  2016-11-30 17:46:32   \n",
       "\n",
       "        Start_Lat  Start_Lng    City  County State     Zipcode  ...  \\\n",
       "261007  30.336502 -97.755646  Austin  Travis    TX       78731  ...   \n",
       "261008  30.328165 -97.694305  Austin  Travis    TX  78752-2826  ...   \n",
       "261009  30.326077 -97.692307  Austin  Travis    TX       78752  ...   \n",
       "261026  30.332523 -97.686707  Austin  Travis    TX       78752  ...   \n",
       "261037  30.292852 -97.747017  Austin  Travis    TX       78705  ...   \n",
       "\n",
       "       Civil_Twilight  Start_TimeYear Start_TimeMonth  Start_TimeWeek  \\\n",
       "261007            Day            2016              11              48   \n",
       "261008            Day            2016              11              48   \n",
       "261009            Day            2016              11              48   \n",
       "261026            Day            2016              11              48   \n",
       "261037            Day            2016              11              48   \n",
       "\n",
       "       Start_TimeDay Start_TimeDayofweek  Start_TimeDayofyear  Start_TimeHour  \\\n",
       "261007            30           Wednesday                  335              16   \n",
       "261008            30           Wednesday                  335              16   \n",
       "261009            30           Wednesday                  335              16   \n",
       "261026            30           Wednesday                  335              17   \n",
       "261037            30           Wednesday                  335              17   \n",
       "\n",
       "        Start_TimeMinute  Start_TimeElapsed  \n",
       "261007                 3         1480521834  \n",
       "261008                32         1480523538  \n",
       "261009                31         1480523505  \n",
       "261026                11         1480525882  \n",
       "261037                16         1480526202  \n",
       "\n",
       "[5 rows x 25 columns]"
      ]
     },
     "execution_count": 5,
     "metadata": {},
     "output_type": "execute_result"
    }
   ],
   "source": [
    "print(f\"Number of Columns : {len(tx_metro_cities_df.columns)}\")\n",
    "print(f\"Number of Rows : {len(tx_metro_cities_df)}\")\n",
    "print(tx_metro_cities_df.columns)\n",
    "\n",
    "tx_metro_cities_df.head()\n"
   ]
  },
  {
   "cell_type": "markdown",
   "metadata": {},
   "source": [
    "# Austin Fatality Data"
   ]
  },
  {
   "cell_type": "code",
   "execution_count": 15,
   "metadata": {
    "ExecuteTime": {
     "end_time": "2020-04-25T15:19:03.002571Z",
     "start_time": "2020-04-25T15:19:01.119407Z"
    }
   },
   "outputs": [
    {
     "name": "stderr",
     "output_type": "stream",
     "text": [
      "WARNING:root:Requests made without an app_token will be subject to strict throttling limits.\n"
     ]
    }
   ],
   "source": [
    "# Unauthenticated client only works with public data sets. Note 'None'\n",
    "# in place of application token, and no username or password:\n",
    "client = Socrata(\"data.austintexas.gov\", None)\n",
    "\n",
    "\n",
    "# First 2000 results, returned as JSON from API / converted to Python list of\n",
    "# dictionaries by sodapy.\n",
    "\n",
    "results = client.get(\"ergh-7g8p\", limit=2000)\n",
    "results_df_2012 =pd.DataFrame.from_records(results)\n",
    "\n",
    "# Convert to pandas DataFrame\n",
    "results = client.get(\"vggi-9ddh\", limit=2000)\n",
    "results_df_2013 =pd.DataFrame.from_records(results)\n",
    "\n",
    "results = client.get(\"gm9p-snyb\", limit=2000)\n",
    "results_df_2014=pd.DataFrame.from_records(results)\n",
    "\n",
    "results = client.get(\"p658-umsa\", limit=2000)\n",
    "results_df_2015=pd.DataFrame.from_records(results)\n",
    "\n",
    "results = client.get(\"tiqb-wv3c\", limit=2000)\n",
    "results_df_2016=pd.DataFrame.from_records(results)\n",
    "\n",
    "\n",
    "results = client.get(\"ijds-pcyq\", limit=2000)\n",
    "results_df_2017=pd.DataFrame.from_records(results)\n",
    "\n",
    "results = client.get(\"9jd4-zjmx\", limit=2000)\n",
    "results_df_2018 = pd.DataFrame.from_records(results)\n",
    "\n"
   ]
  },
  {
   "cell_type": "code",
   "execution_count": 10,
   "metadata": {
    "ExecuteTime": {
     "end_time": "2020-04-25T15:19:03.041550Z",
     "start_time": "2020-04-25T15:19:03.003571Z"
    }
   },
   "outputs": [
    {
     "name": "stdout",
     "output_type": "stream",
     "text": [
      "Number of Columns : 30\n",
      "Number of Rows : 221\n",
      "Index(['area', 'case_number', 'case_status', 'charge', 'coord_x', 'date',\n",
      "       'day', 'dl_status', 'dl_status_incident',\n",
      "       'failure_to_stop_and_render_aid', 'fatal_crash_number', 'ftsra', 'hour',\n",
      "       'killed_driver_pass', 'location', 'month', 'number_of_fatalities',\n",
      "       'ran_red_light_or_stop_sign', 'related', 'restraint_helmet',\n",
      "       'restraint_or_helmet', 'restraint_type', 'speeding',\n",
      "       'suspected_impairment', 'time', 'type', 'type_of_road', 'victim',\n",
      "       'x_coord', 'y_coord'],\n",
      "      dtype='object')\n"
     ]
    },
    {
     "name": "stderr",
     "output_type": "stream",
     "text": [
      "/Users/ningningdu/opt/anaconda3/lib/python3.7/site-packages/ipykernel_launcher.py:2: FutureWarning: Sorting because non-concatenation axis is not aligned. A future version\n",
      "of pandas will change to not sort by default.\n",
      "\n",
      "To accept the future behavior, pass 'sort=False'.\n",
      "\n",
      "To retain the current behavior and silence the warning, pass 'sort=True'.\n",
      "\n",
      "  \n"
     ]
    },
    {
     "data": {
      "text/html": [
       "<div>\n",
       "<style scoped>\n",
       "    .dataframe tbody tr th:only-of-type {\n",
       "        vertical-align: middle;\n",
       "    }\n",
       "\n",
       "    .dataframe tbody tr th {\n",
       "        vertical-align: top;\n",
       "    }\n",
       "\n",
       "    .dataframe thead th {\n",
       "        text-align: right;\n",
       "    }\n",
       "</style>\n",
       "<table border=\"1\" class=\"dataframe\">\n",
       "  <thead>\n",
       "    <tr style=\"text-align: right;\">\n",
       "      <th></th>\n",
       "      <th>area</th>\n",
       "      <th>case_number</th>\n",
       "      <th>case_status</th>\n",
       "      <th>charge</th>\n",
       "      <th>coord_x</th>\n",
       "      <th>date</th>\n",
       "      <th>day</th>\n",
       "      <th>dl_status</th>\n",
       "      <th>dl_status_incident</th>\n",
       "      <th>failure_to_stop_and_render_aid</th>\n",
       "      <th>...</th>\n",
       "      <th>restraint_or_helmet</th>\n",
       "      <th>restraint_type</th>\n",
       "      <th>speeding</th>\n",
       "      <th>suspected_impairment</th>\n",
       "      <th>time</th>\n",
       "      <th>type</th>\n",
       "      <th>type_of_road</th>\n",
       "      <th>victim</th>\n",
       "      <th>x_coord</th>\n",
       "      <th>y_coord</th>\n",
       "    </tr>\n",
       "  </thead>\n",
       "  <tbody>\n",
       "    <tr>\n",
       "      <td>0</td>\n",
       "      <td>AD</td>\n",
       "      <td>16-0061621</td>\n",
       "      <td>NaN</td>\n",
       "      <td>FTSRA</td>\n",
       "      <td>-97.793878</td>\n",
       "      <td>2016-01-06T00:00:00.000</td>\n",
       "      <td>Wed</td>\n",
       "      <td>okay</td>\n",
       "      <td>NaN</td>\n",
       "      <td>NaN</td>\n",
       "      <td>...</td>\n",
       "      <td>n/a</td>\n",
       "      <td>NaN</td>\n",
       "      <td>N</td>\n",
       "      <td>PED</td>\n",
       "      <td>23:14</td>\n",
       "      <td>Pedestrian</td>\n",
       "      <td>local street</td>\n",
       "      <td>n/a</td>\n",
       "      <td>NaN</td>\n",
       "      <td>30.475234</td>\n",
       "    </tr>\n",
       "    <tr>\n",
       "      <td>1</td>\n",
       "      <td>HE</td>\n",
       "      <td>16-0140992</td>\n",
       "      <td>NaN</td>\n",
       "      <td>N/A</td>\n",
       "      <td>-97.717471</td>\n",
       "      <td>2016-01-14T00:00:00.000</td>\n",
       "      <td>Thu</td>\n",
       "      <td>okay</td>\n",
       "      <td>NaN</td>\n",
       "      <td>NaN</td>\n",
       "      <td>...</td>\n",
       "      <td>n/a</td>\n",
       "      <td>NaN</td>\n",
       "      <td>N</td>\n",
       "      <td>UNKNOWN</td>\n",
       "      <td>14:46</td>\n",
       "      <td>Pedestrian</td>\n",
       "      <td>high use roadway</td>\n",
       "      <td>n/a</td>\n",
       "      <td>NaN</td>\n",
       "      <td>30.231659</td>\n",
       "    </tr>\n",
       "    <tr>\n",
       "      <td>2</td>\n",
       "      <td>FR</td>\n",
       "      <td>16-0221932</td>\n",
       "      <td>NaN</td>\n",
       "      <td>N/A</td>\n",
       "      <td>-97.739337</td>\n",
       "      <td>2016-01-22T00:00:00.000</td>\n",
       "      <td>Fri</td>\n",
       "      <td>okay</td>\n",
       "      <td>NaN</td>\n",
       "      <td>NaN</td>\n",
       "      <td>...</td>\n",
       "      <td>unknown</td>\n",
       "      <td>NaN</td>\n",
       "      <td>Y</td>\n",
       "      <td>DRIVER</td>\n",
       "      <td>23:29</td>\n",
       "      <td>Motor Vehicle</td>\n",
       "      <td>high use roadway</td>\n",
       "      <td>driver</td>\n",
       "      <td>NaN</td>\n",
       "      <td>30.170877</td>\n",
       "    </tr>\n",
       "    <tr>\n",
       "      <td>3</td>\n",
       "      <td>ED</td>\n",
       "      <td>16-0301529</td>\n",
       "      <td>NaN</td>\n",
       "      <td>N/A</td>\n",
       "      <td>-97.679087</td>\n",
       "      <td>2016-01-30T00:00:00.000</td>\n",
       "      <td>Sat</td>\n",
       "      <td>okay</td>\n",
       "      <td>NaN</td>\n",
       "      <td>NaN</td>\n",
       "      <td>...</td>\n",
       "      <td>n/a</td>\n",
       "      <td>NaN</td>\n",
       "      <td>N</td>\n",
       "      <td>UNKNOWN</td>\n",
       "      <td>20:01</td>\n",
       "      <td>Pedestrian</td>\n",
       "      <td>high use roadway</td>\n",
       "      <td>n/a</td>\n",
       "      <td>NaN</td>\n",
       "      <td>30.402741</td>\n",
       "    </tr>\n",
       "    <tr>\n",
       "      <td>4</td>\n",
       "      <td>HE</td>\n",
       "      <td>16-0450263</td>\n",
       "      <td>NaN</td>\n",
       "      <td>N/A</td>\n",
       "      <td>-97.698371</td>\n",
       "      <td>2016-02-14T00:00:00.000</td>\n",
       "      <td>Sun</td>\n",
       "      <td>okay</td>\n",
       "      <td>NaN</td>\n",
       "      <td>NaN</td>\n",
       "      <td>...</td>\n",
       "      <td>no helmet</td>\n",
       "      <td>NaN</td>\n",
       "      <td>Y</td>\n",
       "      <td>DRIVER</td>\n",
       "      <td>02:22</td>\n",
       "      <td>Motorcycle</td>\n",
       "      <td>local street</td>\n",
       "      <td>motorcyclist</td>\n",
       "      <td>NaN</td>\n",
       "      <td>30.191989</td>\n",
       "    </tr>\n",
       "  </tbody>\n",
       "</table>\n",
       "<p>5 rows × 30 columns</p>\n",
       "</div>"
      ],
      "text/plain": [
       "  area case_number case_status charge     coord_x                     date  \\\n",
       "0   AD  16-0061621         NaN  FTSRA  -97.793878  2016-01-06T00:00:00.000   \n",
       "1   HE  16-0140992         NaN    N/A  -97.717471  2016-01-14T00:00:00.000   \n",
       "2   FR  16-0221932         NaN    N/A  -97.739337  2016-01-22T00:00:00.000   \n",
       "3   ED  16-0301529         NaN    N/A  -97.679087  2016-01-30T00:00:00.000   \n",
       "4   HE  16-0450263         NaN    N/A  -97.698371  2016-02-14T00:00:00.000   \n",
       "\n",
       "   day dl_status dl_status_incident failure_to_stop_and_render_aid  ...  \\\n",
       "0  Wed      okay                NaN                            NaN  ...   \n",
       "1  Thu      okay                NaN                            NaN  ...   \n",
       "2  Fri      okay                NaN                            NaN  ...   \n",
       "3  Sat      okay                NaN                            NaN  ...   \n",
       "4  Sun      okay                NaN                            NaN  ...   \n",
       "\n",
       "  restraint_or_helmet restraint_type speeding suspected_impairment   time  \\\n",
       "0                 n/a            NaN        N                PED    23:14   \n",
       "1                 n/a            NaN        N              UNKNOWN  14:46   \n",
       "2             unknown            NaN        Y             DRIVER    23:29   \n",
       "3                 n/a            NaN        N              UNKNOWN  20:01   \n",
       "4           no helmet            NaN        Y               DRIVER  02:22   \n",
       "\n",
       "            type      type_of_road        victim x_coord    y_coord  \n",
       "0     Pedestrian      local street           n/a     NaN  30.475234  \n",
       "1     Pedestrian  high use roadway           n/a     NaN  30.231659  \n",
       "2  Motor Vehicle  high use roadway        driver     NaN  30.170877  \n",
       "3     Pedestrian  high use roadway           n/a     NaN  30.402741  \n",
       "4     Motorcycle      local street  motorcyclist     NaN  30.191989  \n",
       "\n",
       "[5 rows x 30 columns]"
      ]
     },
     "execution_count": 10,
     "metadata": {},
     "output_type": "execute_result"
    }
   ],
   "source": [
    "#concatenate 2016-2018 fatality data\n",
    "results_project= pd.concat([results_df_2016, results_df_2017, results_df_2018])\n",
    "\n",
    "\n",
    "print(f\"Number of Columns : {len(results_project.columns)}\")\n",
    "print(f\"Number of Rows : {len(results_project)}\")\n",
    "print(results_project.columns)\n",
    "\n",
    "results_project.head()\n"
   ]
  },
  {
   "cell_type": "code",
   "execution_count": 21,
   "metadata": {},
   "outputs": [
    {
     "data": {
      "text/plain": [
       "dtype('float64')"
      ]
     },
     "execution_count": 21,
     "metadata": {},
     "output_type": "execute_result"
    }
   ],
   "source": [
    "results_project[\"coord_x\"].dtype"
   ]
  },
  {
   "cell_type": "code",
   "execution_count": 20,
   "metadata": {},
   "outputs": [],
   "source": [
    "results_project = results_project.astype({\"coord_x\": float, \"x_coord\":float, \"y_coord\": float})\n"
   ]
  },
  {
   "cell_type": "markdown",
   "metadata": {},
   "source": [
    "# Save to SQLlite\n"
   ]
  },
  {
   "cell_type": "code",
   "execution_count": 8,
   "metadata": {
    "ExecuteTime": {
     "end_time": "2020-04-25T15:19:05.861626Z",
     "start_time": "2020-04-25T15:19:03.043549Z"
    }
   },
   "outputs": [],
   "source": [
    "engine = create_engine('sqlite:///data/AUSaccidents.db', echo=False)\n",
    "tx_metro_cities_df.to_sql('austinAccidents',con=engine,if_exists='replace')\n"
   ]
  },
  {
   "cell_type": "code",
   "execution_count": 9,
   "metadata": {
    "ExecuteTime": {
     "end_time": "2020-04-25T15:19:05.983538Z",
     "start_time": "2020-04-25T15:19:05.863606Z"
    }
   },
   "outputs": [],
   "source": [
    "results_project.to_sql('austinFatalities',con=engine,if_exists='replace')\n"
   ]
  },
  {
   "cell_type": "code",
   "execution_count": null,
   "metadata": {},
   "outputs": [],
   "source": []
  }
 ],
 "metadata": {
  "kernelspec": {
   "display_name": "Python 3",
   "language": "python",
   "name": "python3"
  },
  "language_info": {
   "codemirror_mode": {
    "name": "ipython",
    "version": 3
   },
   "file_extension": ".py",
   "mimetype": "text/x-python",
   "name": "python",
   "nbconvert_exporter": "python",
   "pygments_lexer": "ipython3",
   "version": "3.7.4"
  }
 },
 "nbformat": 4,
 "nbformat_minor": 2
}
